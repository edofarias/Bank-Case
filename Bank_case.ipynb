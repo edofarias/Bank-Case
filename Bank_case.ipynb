{
  "nbformat": 4,
  "nbformat_minor": 0,
  "metadata": {
    "colab": {
      "provenance": []
    },
    "kernelspec": {
      "name": "python3",
      "display_name": "Python 3"
    },
    "language_info": {
      "name": "python"
    }
  },
  "cells": [
    {
      "cell_type": "markdown",
      "metadata": {
        "id": "gBzkY9DFK4Ge"
      },
      "source": [
        "**Bank case**"
      ]
    },
    {
      "cell_type": "markdown",
      "metadata": {
        "id": "jgGEwGndK-qi"
      },
      "source": [
        "by: Eduardo Farías\n",
        "\n",
        "**Introduction** <br>\n",
        "In the following case about clients of a chilean bank with 1000 rows x 31 column where the first 30 columns is about unknown parameters and the columns 31 is about if the client finished to pay his credit, And It is expected to create a model that predict the last variable to know if new client will be able to pay or not their credits. <br>\n",
        "For this, it will be used supervised models for classification. Desicions tree,  Nearest Neighbors and Logistic regression."
      ]
    },
    {
      "cell_type": "markdown",
      "metadata": {
        "id": "WqM0WEsf0dH9"
      },
      "source": [
        "Import library"
      ]
    },
    {
      "cell_type": "code",
      "metadata": {
        "id": "HBWbVJ0Ty7SN"
      },
      "source": [
        "import pandas as pd\n",
        "import numpy as np\n",
        "import matplotlib.pyplot as plt\n",
        "from sklearn.tree import DecisionTreeClassifier\n",
        "from sklearn.model_selection import train_test_split\n",
        "from sklearn.tree import DecisionTreeClassifier, plot_tree\n",
        "from sklearn.linear_model import LogisticRegression\n",
        "from sklearn import metrics\n",
        "from sklearn.neighbors import KNeighborsClassifier #libraries to create KNN models\n",
        "from sklearn.model_selection import cross_val_predict, cross_val_score # Libraries to create KNN models\n",
        "from sklearn.metrics import confusion_matrix # For confusion matrix\n",
        "from sklearn.metrics import classification_report #To analyze recall and precision\n",
        "from sklearn.metrics import plot_roc_curve #For roc_auc\n",
        "from sklearn.preprocessing import StandardScaler #Library to standardize values\n",
        "%matplotlib inline"
      ],
      "execution_count": 1,
      "outputs": []
    },
    {
      "cell_type": "markdown",
      "metadata": {
        "id": "r0d_Pfi10i5B"
      },
      "source": [
        "load data"
      ]
    },
    {
      "cell_type": "markdown",
      "metadata": {
        "id": "P_oxKxXy0os0"
      },
      "source": [
        "its shown data, which has 1000 raws and 31 columns"
      ]
    },
    {
      "cell_type": "code",
      "metadata": {
        "colab": {
          "base_uri": "https://localhost:8080/",
          "height": 253
        },
        "id": "Br0TtFc_zMkF",
        "outputId": "a3f4d96a-9a70-4e70-9747-980f58ef3631"
      },
      "source": [
        "path = \"https://raw.githubusercontent.com/edofarias/Bank-Case/main/bank.csv\"\n",
        "df = pd.read_csv(path, sep=\",\")\n",
        "print (df.shape)\n",
        "df.head()"
      ],
      "execution_count": 2,
      "outputs": [
        {
          "output_type": "stream",
          "name": "stdout",
          "text": [
            "(1000, 31)\n"
          ]
        },
        {
          "output_type": "execute_result",
          "data": {
            "text/plain": [
              "     0   1    2    3     4    5    6  7    8     9  ...  21  22  23 24  25  \\\n",
              "0  A11   6  A34  A43  1169  A65  A75  4  A93  A101  ...   8  68   5  8  73   \n",
              "1  A12  48  A32  A43  5951  A61  A73  2  A92  A101  ...  49  23   3  4  70   \n",
              "2  A14  12  A34  A46  2096  A61  A74  2  A93  A101  ...  13  51   5  5  61   \n",
              "3  A11  42  A32  A42  7882  A61  A74  2  A93  A103  ...  43  47   6  6  87   \n",
              "4  A11  24  A33  A40  4870  A61  A73  3  A93  A101  ...  26  55   6  7  77   \n",
              "\n",
              "   26 27    28 29 30  \n",
              "0   6  8  1236  3  0  \n",
              "1   3  4  5973  2  1  \n",
              "2   4  4  2145  3  0  \n",
              "3   5  4  7927  3  0  \n",
              "4   6  6  4923  4  1  \n",
              "\n",
              "[5 rows x 31 columns]"
            ],
            "text/html": [
              "\n",
              "  <div id=\"df-07327430-0fb1-4bee-aac3-c56cfe553ce7\">\n",
              "    <div class=\"colab-df-container\">\n",
              "      <div>\n",
              "<style scoped>\n",
              "    .dataframe tbody tr th:only-of-type {\n",
              "        vertical-align: middle;\n",
              "    }\n",
              "\n",
              "    .dataframe tbody tr th {\n",
              "        vertical-align: top;\n",
              "    }\n",
              "\n",
              "    .dataframe thead th {\n",
              "        text-align: right;\n",
              "    }\n",
              "</style>\n",
              "<table border=\"1\" class=\"dataframe\">\n",
              "  <thead>\n",
              "    <tr style=\"text-align: right;\">\n",
              "      <th></th>\n",
              "      <th>0</th>\n",
              "      <th>1</th>\n",
              "      <th>2</th>\n",
              "      <th>3</th>\n",
              "      <th>4</th>\n",
              "      <th>5</th>\n",
              "      <th>6</th>\n",
              "      <th>7</th>\n",
              "      <th>8</th>\n",
              "      <th>9</th>\n",
              "      <th>...</th>\n",
              "      <th>21</th>\n",
              "      <th>22</th>\n",
              "      <th>23</th>\n",
              "      <th>24</th>\n",
              "      <th>25</th>\n",
              "      <th>26</th>\n",
              "      <th>27</th>\n",
              "      <th>28</th>\n",
              "      <th>29</th>\n",
              "      <th>30</th>\n",
              "    </tr>\n",
              "  </thead>\n",
              "  <tbody>\n",
              "    <tr>\n",
              "      <th>0</th>\n",
              "      <td>A11</td>\n",
              "      <td>6</td>\n",
              "      <td>A34</td>\n",
              "      <td>A43</td>\n",
              "      <td>1169</td>\n",
              "      <td>A65</td>\n",
              "      <td>A75</td>\n",
              "      <td>4</td>\n",
              "      <td>A93</td>\n",
              "      <td>A101</td>\n",
              "      <td>...</td>\n",
              "      <td>8</td>\n",
              "      <td>68</td>\n",
              "      <td>5</td>\n",
              "      <td>8</td>\n",
              "      <td>73</td>\n",
              "      <td>6</td>\n",
              "      <td>8</td>\n",
              "      <td>1236</td>\n",
              "      <td>3</td>\n",
              "      <td>0</td>\n",
              "    </tr>\n",
              "    <tr>\n",
              "      <th>1</th>\n",
              "      <td>A12</td>\n",
              "      <td>48</td>\n",
              "      <td>A32</td>\n",
              "      <td>A43</td>\n",
              "      <td>5951</td>\n",
              "      <td>A61</td>\n",
              "      <td>A73</td>\n",
              "      <td>2</td>\n",
              "      <td>A92</td>\n",
              "      <td>A101</td>\n",
              "      <td>...</td>\n",
              "      <td>49</td>\n",
              "      <td>23</td>\n",
              "      <td>3</td>\n",
              "      <td>4</td>\n",
              "      <td>70</td>\n",
              "      <td>3</td>\n",
              "      <td>4</td>\n",
              "      <td>5973</td>\n",
              "      <td>2</td>\n",
              "      <td>1</td>\n",
              "    </tr>\n",
              "    <tr>\n",
              "      <th>2</th>\n",
              "      <td>A14</td>\n",
              "      <td>12</td>\n",
              "      <td>A34</td>\n",
              "      <td>A46</td>\n",
              "      <td>2096</td>\n",
              "      <td>A61</td>\n",
              "      <td>A74</td>\n",
              "      <td>2</td>\n",
              "      <td>A93</td>\n",
              "      <td>A101</td>\n",
              "      <td>...</td>\n",
              "      <td>13</td>\n",
              "      <td>51</td>\n",
              "      <td>5</td>\n",
              "      <td>5</td>\n",
              "      <td>61</td>\n",
              "      <td>4</td>\n",
              "      <td>4</td>\n",
              "      <td>2145</td>\n",
              "      <td>3</td>\n",
              "      <td>0</td>\n",
              "    </tr>\n",
              "    <tr>\n",
              "      <th>3</th>\n",
              "      <td>A11</td>\n",
              "      <td>42</td>\n",
              "      <td>A32</td>\n",
              "      <td>A42</td>\n",
              "      <td>7882</td>\n",
              "      <td>A61</td>\n",
              "      <td>A74</td>\n",
              "      <td>2</td>\n",
              "      <td>A93</td>\n",
              "      <td>A103</td>\n",
              "      <td>...</td>\n",
              "      <td>43</td>\n",
              "      <td>47</td>\n",
              "      <td>6</td>\n",
              "      <td>6</td>\n",
              "      <td>87</td>\n",
              "      <td>5</td>\n",
              "      <td>4</td>\n",
              "      <td>7927</td>\n",
              "      <td>3</td>\n",
              "      <td>0</td>\n",
              "    </tr>\n",
              "    <tr>\n",
              "      <th>4</th>\n",
              "      <td>A11</td>\n",
              "      <td>24</td>\n",
              "      <td>A33</td>\n",
              "      <td>A40</td>\n",
              "      <td>4870</td>\n",
              "      <td>A61</td>\n",
              "      <td>A73</td>\n",
              "      <td>3</td>\n",
              "      <td>A93</td>\n",
              "      <td>A101</td>\n",
              "      <td>...</td>\n",
              "      <td>26</td>\n",
              "      <td>55</td>\n",
              "      <td>6</td>\n",
              "      <td>7</td>\n",
              "      <td>77</td>\n",
              "      <td>6</td>\n",
              "      <td>6</td>\n",
              "      <td>4923</td>\n",
              "      <td>4</td>\n",
              "      <td>1</td>\n",
              "    </tr>\n",
              "  </tbody>\n",
              "</table>\n",
              "<p>5 rows × 31 columns</p>\n",
              "</div>\n",
              "      <button class=\"colab-df-convert\" onclick=\"convertToInteractive('df-07327430-0fb1-4bee-aac3-c56cfe553ce7')\"\n",
              "              title=\"Convert this dataframe to an interactive table.\"\n",
              "              style=\"display:none;\">\n",
              "        \n",
              "  <svg xmlns=\"http://www.w3.org/2000/svg\" height=\"24px\"viewBox=\"0 0 24 24\"\n",
              "       width=\"24px\">\n",
              "    <path d=\"M0 0h24v24H0V0z\" fill=\"none\"/>\n",
              "    <path d=\"M18.56 5.44l.94 2.06.94-2.06 2.06-.94-2.06-.94-.94-2.06-.94 2.06-2.06.94zm-11 1L8.5 8.5l.94-2.06 2.06-.94-2.06-.94L8.5 2.5l-.94 2.06-2.06.94zm10 10l.94 2.06.94-2.06 2.06-.94-2.06-.94-.94-2.06-.94 2.06-2.06.94z\"/><path d=\"M17.41 7.96l-1.37-1.37c-.4-.4-.92-.59-1.43-.59-.52 0-1.04.2-1.43.59L10.3 9.45l-7.72 7.72c-.78.78-.78 2.05 0 2.83L4 21.41c.39.39.9.59 1.41.59.51 0 1.02-.2 1.41-.59l7.78-7.78 2.81-2.81c.8-.78.8-2.07 0-2.86zM5.41 20L4 18.59l7.72-7.72 1.47 1.35L5.41 20z\"/>\n",
              "  </svg>\n",
              "      </button>\n",
              "      \n",
              "  <style>\n",
              "    .colab-df-container {\n",
              "      display:flex;\n",
              "      flex-wrap:wrap;\n",
              "      gap: 12px;\n",
              "    }\n",
              "\n",
              "    .colab-df-convert {\n",
              "      background-color: #E8F0FE;\n",
              "      border: none;\n",
              "      border-radius: 50%;\n",
              "      cursor: pointer;\n",
              "      display: none;\n",
              "      fill: #1967D2;\n",
              "      height: 32px;\n",
              "      padding: 0 0 0 0;\n",
              "      width: 32px;\n",
              "    }\n",
              "\n",
              "    .colab-df-convert:hover {\n",
              "      background-color: #E2EBFA;\n",
              "      box-shadow: 0px 1px 2px rgba(60, 64, 67, 0.3), 0px 1px 3px 1px rgba(60, 64, 67, 0.15);\n",
              "      fill: #174EA6;\n",
              "    }\n",
              "\n",
              "    [theme=dark] .colab-df-convert {\n",
              "      background-color: #3B4455;\n",
              "      fill: #D2E3FC;\n",
              "    }\n",
              "\n",
              "    [theme=dark] .colab-df-convert:hover {\n",
              "      background-color: #434B5C;\n",
              "      box-shadow: 0px 1px 3px 1px rgba(0, 0, 0, 0.15);\n",
              "      filter: drop-shadow(0px 1px 2px rgba(0, 0, 0, 0.3));\n",
              "      fill: #FFFFFF;\n",
              "    }\n",
              "  </style>\n",
              "\n",
              "      <script>\n",
              "        const buttonEl =\n",
              "          document.querySelector('#df-07327430-0fb1-4bee-aac3-c56cfe553ce7 button.colab-df-convert');\n",
              "        buttonEl.style.display =\n",
              "          google.colab.kernel.accessAllowed ? 'block' : 'none';\n",
              "\n",
              "        async function convertToInteractive(key) {\n",
              "          const element = document.querySelector('#df-07327430-0fb1-4bee-aac3-c56cfe553ce7');\n",
              "          const dataTable =\n",
              "            await google.colab.kernel.invokeFunction('convertToInteractive',\n",
              "                                                     [key], {});\n",
              "          if (!dataTable) return;\n",
              "\n",
              "          const docLinkHtml = 'Like what you see? Visit the ' +\n",
              "            '<a target=\"_blank\" href=https://colab.research.google.com/notebooks/data_table.ipynb>data table notebook</a>'\n",
              "            + ' to learn more about interactive tables.';\n",
              "          element.innerHTML = '';\n",
              "          dataTable['output_type'] = 'display_data';\n",
              "          await google.colab.output.renderOutput(dataTable, element);\n",
              "          const docLink = document.createElement('div');\n",
              "          docLink.innerHTML = docLinkHtml;\n",
              "          element.appendChild(docLink);\n",
              "        }\n",
              "      </script>\n",
              "    </div>\n",
              "  </div>\n",
              "  "
            ]
          },
          "metadata": {},
          "execution_count": 2
        }
      ]
    },
    {
      "cell_type": "code",
      "metadata": {
        "colab": {
          "base_uri": "https://localhost:8080/"
        },
        "id": "PiagghlM2f0g",
        "outputId": "05528c30-be18-4e39-e205-47ab86ac6cff"
      },
      "source": [
        "#Check type var\n",
        "df.dtypes"
      ],
      "execution_count": 3,
      "outputs": [
        {
          "output_type": "execute_result",
          "data": {
            "text/plain": [
              "0     object\n",
              "1      int64\n",
              "2     object\n",
              "3     object\n",
              "4      int64\n",
              "5     object\n",
              "6     object\n",
              "7      int64\n",
              "8     object\n",
              "9     object\n",
              "10     int64\n",
              "11    object\n",
              "12     int64\n",
              "13    object\n",
              "14    object\n",
              "15     int64\n",
              "16    object\n",
              "17     int64\n",
              "18    object\n",
              "19    object\n",
              "20     int64\n",
              "21     int64\n",
              "22     int64\n",
              "23     int64\n",
              "24     int64\n",
              "25     int64\n",
              "26     int64\n",
              "27     int64\n",
              "28     int64\n",
              "29     int64\n",
              "30     int64\n",
              "dtype: object"
            ]
          },
          "metadata": {},
          "execution_count": 3
        }
      ]
    },
    {
      "cell_type": "code",
      "source": [
        "df.nunique()"
      ],
      "metadata": {
        "colab": {
          "base_uri": "https://localhost:8080/"
        },
        "id": "cfrQsO2tIARX",
        "outputId": "4353b7cb-3859-440e-c0a0-5f0bf7351ffa"
      },
      "execution_count": 4,
      "outputs": [
        {
          "output_type": "execute_result",
          "data": {
            "text/plain": [
              "0       4\n",
              "1      33\n",
              "2       5\n",
              "3      10\n",
              "4     921\n",
              "5       5\n",
              "6       5\n",
              "7       4\n",
              "8       4\n",
              "9       3\n",
              "10      4\n",
              "11      4\n",
              "12     53\n",
              "13      3\n",
              "14      3\n",
              "15      4\n",
              "16      4\n",
              "17      2\n",
              "18      2\n",
              "19      2\n",
              "20      5\n",
              "21     45\n",
              "22     53\n",
              "23      5\n",
              "24      7\n",
              "25     79\n",
              "26      7\n",
              "27      4\n",
              "28    917\n",
              "29      5\n",
              "30      2\n",
              "dtype: int64"
            ]
          },
          "metadata": {},
          "execution_count": 4
        }
      ]
    },
    {
      "cell_type": "code",
      "source": [
        "df.groupby(['30']).agg({'30': 'count'})"
      ],
      "metadata": {
        "colab": {
          "base_uri": "https://localhost:8080/",
          "height": 143
        },
        "id": "JhZIj0gna1L4",
        "outputId": "07f9bbfa-d28f-45ce-d629-2664da549b0d"
      },
      "execution_count": 5,
      "outputs": [
        {
          "output_type": "execute_result",
          "data": {
            "text/plain": [
              "     30\n",
              "30     \n",
              "0   700\n",
              "1   300"
            ],
            "text/html": [
              "\n",
              "  <div id=\"df-f099131b-fab0-4bea-b040-0e1a9236781f\">\n",
              "    <div class=\"colab-df-container\">\n",
              "      <div>\n",
              "<style scoped>\n",
              "    .dataframe tbody tr th:only-of-type {\n",
              "        vertical-align: middle;\n",
              "    }\n",
              "\n",
              "    .dataframe tbody tr th {\n",
              "        vertical-align: top;\n",
              "    }\n",
              "\n",
              "    .dataframe thead th {\n",
              "        text-align: right;\n",
              "    }\n",
              "</style>\n",
              "<table border=\"1\" class=\"dataframe\">\n",
              "  <thead>\n",
              "    <tr style=\"text-align: right;\">\n",
              "      <th></th>\n",
              "      <th>30</th>\n",
              "    </tr>\n",
              "    <tr>\n",
              "      <th>30</th>\n",
              "      <th></th>\n",
              "    </tr>\n",
              "  </thead>\n",
              "  <tbody>\n",
              "    <tr>\n",
              "      <th>0</th>\n",
              "      <td>700</td>\n",
              "    </tr>\n",
              "    <tr>\n",
              "      <th>1</th>\n",
              "      <td>300</td>\n",
              "    </tr>\n",
              "  </tbody>\n",
              "</table>\n",
              "</div>\n",
              "      <button class=\"colab-df-convert\" onclick=\"convertToInteractive('df-f099131b-fab0-4bea-b040-0e1a9236781f')\"\n",
              "              title=\"Convert this dataframe to an interactive table.\"\n",
              "              style=\"display:none;\">\n",
              "        \n",
              "  <svg xmlns=\"http://www.w3.org/2000/svg\" height=\"24px\"viewBox=\"0 0 24 24\"\n",
              "       width=\"24px\">\n",
              "    <path d=\"M0 0h24v24H0V0z\" fill=\"none\"/>\n",
              "    <path d=\"M18.56 5.44l.94 2.06.94-2.06 2.06-.94-2.06-.94-.94-2.06-.94 2.06-2.06.94zm-11 1L8.5 8.5l.94-2.06 2.06-.94-2.06-.94L8.5 2.5l-.94 2.06-2.06.94zm10 10l.94 2.06.94-2.06 2.06-.94-2.06-.94-.94-2.06-.94 2.06-2.06.94z\"/><path d=\"M17.41 7.96l-1.37-1.37c-.4-.4-.92-.59-1.43-.59-.52 0-1.04.2-1.43.59L10.3 9.45l-7.72 7.72c-.78.78-.78 2.05 0 2.83L4 21.41c.39.39.9.59 1.41.59.51 0 1.02-.2 1.41-.59l7.78-7.78 2.81-2.81c.8-.78.8-2.07 0-2.86zM5.41 20L4 18.59l7.72-7.72 1.47 1.35L5.41 20z\"/>\n",
              "  </svg>\n",
              "      </button>\n",
              "      \n",
              "  <style>\n",
              "    .colab-df-container {\n",
              "      display:flex;\n",
              "      flex-wrap:wrap;\n",
              "      gap: 12px;\n",
              "    }\n",
              "\n",
              "    .colab-df-convert {\n",
              "      background-color: #E8F0FE;\n",
              "      border: none;\n",
              "      border-radius: 50%;\n",
              "      cursor: pointer;\n",
              "      display: none;\n",
              "      fill: #1967D2;\n",
              "      height: 32px;\n",
              "      padding: 0 0 0 0;\n",
              "      width: 32px;\n",
              "    }\n",
              "\n",
              "    .colab-df-convert:hover {\n",
              "      background-color: #E2EBFA;\n",
              "      box-shadow: 0px 1px 2px rgba(60, 64, 67, 0.3), 0px 1px 3px 1px rgba(60, 64, 67, 0.15);\n",
              "      fill: #174EA6;\n",
              "    }\n",
              "\n",
              "    [theme=dark] .colab-df-convert {\n",
              "      background-color: #3B4455;\n",
              "      fill: #D2E3FC;\n",
              "    }\n",
              "\n",
              "    [theme=dark] .colab-df-convert:hover {\n",
              "      background-color: #434B5C;\n",
              "      box-shadow: 0px 1px 3px 1px rgba(0, 0, 0, 0.15);\n",
              "      filter: drop-shadow(0px 1px 2px rgba(0, 0, 0, 0.3));\n",
              "      fill: #FFFFFF;\n",
              "    }\n",
              "  </style>\n",
              "\n",
              "      <script>\n",
              "        const buttonEl =\n",
              "          document.querySelector('#df-f099131b-fab0-4bea-b040-0e1a9236781f button.colab-df-convert');\n",
              "        buttonEl.style.display =\n",
              "          google.colab.kernel.accessAllowed ? 'block' : 'none';\n",
              "\n",
              "        async function convertToInteractive(key) {\n",
              "          const element = document.querySelector('#df-f099131b-fab0-4bea-b040-0e1a9236781f');\n",
              "          const dataTable =\n",
              "            await google.colab.kernel.invokeFunction('convertToInteractive',\n",
              "                                                     [key], {});\n",
              "          if (!dataTable) return;\n",
              "\n",
              "          const docLinkHtml = 'Like what you see? Visit the ' +\n",
              "            '<a target=\"_blank\" href=https://colab.research.google.com/notebooks/data_table.ipynb>data table notebook</a>'\n",
              "            + ' to learn more about interactive tables.';\n",
              "          element.innerHTML = '';\n",
              "          dataTable['output_type'] = 'display_data';\n",
              "          await google.colab.output.renderOutput(dataTable, element);\n",
              "          const docLink = document.createElement('div');\n",
              "          docLink.innerHTML = docLinkHtml;\n",
              "          element.appendChild(docLink);\n",
              "        }\n",
              "      </script>\n",
              "    </div>\n",
              "  </div>\n",
              "  "
            ]
          },
          "metadata": {},
          "execution_count": 5
        }
      ]
    },
    {
      "cell_type": "markdown",
      "source": [
        "It means there are 700 who didn't pay the credit completely and 300 payed the credit completely."
      ],
      "metadata": {
        "id": "QS3NfeYvcEVB"
      }
    },
    {
      "cell_type": "code",
      "metadata": {
        "colab": {
          "base_uri": "https://localhost:8080/"
        },
        "id": "lymj5CJH21BQ",
        "outputId": "0a4c3c4d-98ef-462a-cf51-23f409e86686"
      },
      "source": [
        "#non numeric to numeric\n",
        "df['0'] = pd.to_numeric(df['0'].str[1:])\n",
        "df['2'] = pd.to_numeric(df['2'].str[1:])\n",
        "df['3'] = pd.to_numeric(df['3'].str[1:])\n",
        "df['5'] = pd.to_numeric(df['5'].str[1:])\n",
        "df['6'] = pd.to_numeric(df['6'].str[1:])\n",
        "df['8'] = pd.to_numeric(df['8'].str[1:])\n",
        "df['9'] = pd.to_numeric(df['9'].str[1:])\n",
        "df['11'] = pd.to_numeric(df['11'].str[1:])\n",
        "df['13'] = pd.to_numeric(df['13'].str[1:])\n",
        "df['14'] = pd.to_numeric(df['14'].str[1:])\n",
        "df['16'] = pd.to_numeric(df['16'].str[1:])\n",
        "df['18'] = pd.to_numeric(df['18'].str[1:])\n",
        "df['19'] = pd.to_numeric(df['19'].str[1:])\n",
        "df.dtypes"
      ],
      "execution_count": 6,
      "outputs": [
        {
          "output_type": "execute_result",
          "data": {
            "text/plain": [
              "0     int64\n",
              "1     int64\n",
              "2     int64\n",
              "3     int64\n",
              "4     int64\n",
              "5     int64\n",
              "6     int64\n",
              "7     int64\n",
              "8     int64\n",
              "9     int64\n",
              "10    int64\n",
              "11    int64\n",
              "12    int64\n",
              "13    int64\n",
              "14    int64\n",
              "15    int64\n",
              "16    int64\n",
              "17    int64\n",
              "18    int64\n",
              "19    int64\n",
              "20    int64\n",
              "21    int64\n",
              "22    int64\n",
              "23    int64\n",
              "24    int64\n",
              "25    int64\n",
              "26    int64\n",
              "27    int64\n",
              "28    int64\n",
              "29    int64\n",
              "30    int64\n",
              "dtype: object"
            ]
          },
          "metadata": {},
          "execution_count": 6
        }
      ]
    },
    {
      "cell_type": "code",
      "metadata": {
        "colab": {
          "base_uri": "https://localhost:8080/",
          "height": 235
        },
        "id": "usAAqtXr37rE",
        "outputId": "dce2381c-bf03-41b7-c2e9-f780d55559bd"
      },
      "source": [
        "df.head() #check new dataframe"
      ],
      "execution_count": 7,
      "outputs": [
        {
          "output_type": "execute_result",
          "data": {
            "text/plain": [
              "    0   1   2   3     4   5   6  7   8    9  ...  21  22  23  24  25  26  27  \\\n",
              "0  11   6  34  43  1169  65  75  4  93  101  ...   8  68   5   8  73   6   8   \n",
              "1  12  48  32  43  5951  61  73  2  92  101  ...  49  23   3   4  70   3   4   \n",
              "2  14  12  34  46  2096  61  74  2  93  101  ...  13  51   5   5  61   4   4   \n",
              "3  11  42  32  42  7882  61  74  2  93  103  ...  43  47   6   6  87   5   4   \n",
              "4  11  24  33  40  4870  61  73  3  93  101  ...  26  55   6   7  77   6   6   \n",
              "\n",
              "     28  29  30  \n",
              "0  1236   3   0  \n",
              "1  5973   2   1  \n",
              "2  2145   3   0  \n",
              "3  7927   3   0  \n",
              "4  4923   4   1  \n",
              "\n",
              "[5 rows x 31 columns]"
            ],
            "text/html": [
              "\n",
              "  <div id=\"df-16887455-8ba2-4d5a-9f4c-f0beab5aae82\">\n",
              "    <div class=\"colab-df-container\">\n",
              "      <div>\n",
              "<style scoped>\n",
              "    .dataframe tbody tr th:only-of-type {\n",
              "        vertical-align: middle;\n",
              "    }\n",
              "\n",
              "    .dataframe tbody tr th {\n",
              "        vertical-align: top;\n",
              "    }\n",
              "\n",
              "    .dataframe thead th {\n",
              "        text-align: right;\n",
              "    }\n",
              "</style>\n",
              "<table border=\"1\" class=\"dataframe\">\n",
              "  <thead>\n",
              "    <tr style=\"text-align: right;\">\n",
              "      <th></th>\n",
              "      <th>0</th>\n",
              "      <th>1</th>\n",
              "      <th>2</th>\n",
              "      <th>3</th>\n",
              "      <th>4</th>\n",
              "      <th>5</th>\n",
              "      <th>6</th>\n",
              "      <th>7</th>\n",
              "      <th>8</th>\n",
              "      <th>9</th>\n",
              "      <th>...</th>\n",
              "      <th>21</th>\n",
              "      <th>22</th>\n",
              "      <th>23</th>\n",
              "      <th>24</th>\n",
              "      <th>25</th>\n",
              "      <th>26</th>\n",
              "      <th>27</th>\n",
              "      <th>28</th>\n",
              "      <th>29</th>\n",
              "      <th>30</th>\n",
              "    </tr>\n",
              "  </thead>\n",
              "  <tbody>\n",
              "    <tr>\n",
              "      <th>0</th>\n",
              "      <td>11</td>\n",
              "      <td>6</td>\n",
              "      <td>34</td>\n",
              "      <td>43</td>\n",
              "      <td>1169</td>\n",
              "      <td>65</td>\n",
              "      <td>75</td>\n",
              "      <td>4</td>\n",
              "      <td>93</td>\n",
              "      <td>101</td>\n",
              "      <td>...</td>\n",
              "      <td>8</td>\n",
              "      <td>68</td>\n",
              "      <td>5</td>\n",
              "      <td>8</td>\n",
              "      <td>73</td>\n",
              "      <td>6</td>\n",
              "      <td>8</td>\n",
              "      <td>1236</td>\n",
              "      <td>3</td>\n",
              "      <td>0</td>\n",
              "    </tr>\n",
              "    <tr>\n",
              "      <th>1</th>\n",
              "      <td>12</td>\n",
              "      <td>48</td>\n",
              "      <td>32</td>\n",
              "      <td>43</td>\n",
              "      <td>5951</td>\n",
              "      <td>61</td>\n",
              "      <td>73</td>\n",
              "      <td>2</td>\n",
              "      <td>92</td>\n",
              "      <td>101</td>\n",
              "      <td>...</td>\n",
              "      <td>49</td>\n",
              "      <td>23</td>\n",
              "      <td>3</td>\n",
              "      <td>4</td>\n",
              "      <td>70</td>\n",
              "      <td>3</td>\n",
              "      <td>4</td>\n",
              "      <td>5973</td>\n",
              "      <td>2</td>\n",
              "      <td>1</td>\n",
              "    </tr>\n",
              "    <tr>\n",
              "      <th>2</th>\n",
              "      <td>14</td>\n",
              "      <td>12</td>\n",
              "      <td>34</td>\n",
              "      <td>46</td>\n",
              "      <td>2096</td>\n",
              "      <td>61</td>\n",
              "      <td>74</td>\n",
              "      <td>2</td>\n",
              "      <td>93</td>\n",
              "      <td>101</td>\n",
              "      <td>...</td>\n",
              "      <td>13</td>\n",
              "      <td>51</td>\n",
              "      <td>5</td>\n",
              "      <td>5</td>\n",
              "      <td>61</td>\n",
              "      <td>4</td>\n",
              "      <td>4</td>\n",
              "      <td>2145</td>\n",
              "      <td>3</td>\n",
              "      <td>0</td>\n",
              "    </tr>\n",
              "    <tr>\n",
              "      <th>3</th>\n",
              "      <td>11</td>\n",
              "      <td>42</td>\n",
              "      <td>32</td>\n",
              "      <td>42</td>\n",
              "      <td>7882</td>\n",
              "      <td>61</td>\n",
              "      <td>74</td>\n",
              "      <td>2</td>\n",
              "      <td>93</td>\n",
              "      <td>103</td>\n",
              "      <td>...</td>\n",
              "      <td>43</td>\n",
              "      <td>47</td>\n",
              "      <td>6</td>\n",
              "      <td>6</td>\n",
              "      <td>87</td>\n",
              "      <td>5</td>\n",
              "      <td>4</td>\n",
              "      <td>7927</td>\n",
              "      <td>3</td>\n",
              "      <td>0</td>\n",
              "    </tr>\n",
              "    <tr>\n",
              "      <th>4</th>\n",
              "      <td>11</td>\n",
              "      <td>24</td>\n",
              "      <td>33</td>\n",
              "      <td>40</td>\n",
              "      <td>4870</td>\n",
              "      <td>61</td>\n",
              "      <td>73</td>\n",
              "      <td>3</td>\n",
              "      <td>93</td>\n",
              "      <td>101</td>\n",
              "      <td>...</td>\n",
              "      <td>26</td>\n",
              "      <td>55</td>\n",
              "      <td>6</td>\n",
              "      <td>7</td>\n",
              "      <td>77</td>\n",
              "      <td>6</td>\n",
              "      <td>6</td>\n",
              "      <td>4923</td>\n",
              "      <td>4</td>\n",
              "      <td>1</td>\n",
              "    </tr>\n",
              "  </tbody>\n",
              "</table>\n",
              "<p>5 rows × 31 columns</p>\n",
              "</div>\n",
              "      <button class=\"colab-df-convert\" onclick=\"convertToInteractive('df-16887455-8ba2-4d5a-9f4c-f0beab5aae82')\"\n",
              "              title=\"Convert this dataframe to an interactive table.\"\n",
              "              style=\"display:none;\">\n",
              "        \n",
              "  <svg xmlns=\"http://www.w3.org/2000/svg\" height=\"24px\"viewBox=\"0 0 24 24\"\n",
              "       width=\"24px\">\n",
              "    <path d=\"M0 0h24v24H0V0z\" fill=\"none\"/>\n",
              "    <path d=\"M18.56 5.44l.94 2.06.94-2.06 2.06-.94-2.06-.94-.94-2.06-.94 2.06-2.06.94zm-11 1L8.5 8.5l.94-2.06 2.06-.94-2.06-.94L8.5 2.5l-.94 2.06-2.06.94zm10 10l.94 2.06.94-2.06 2.06-.94-2.06-.94-.94-2.06-.94 2.06-2.06.94z\"/><path d=\"M17.41 7.96l-1.37-1.37c-.4-.4-.92-.59-1.43-.59-.52 0-1.04.2-1.43.59L10.3 9.45l-7.72 7.72c-.78.78-.78 2.05 0 2.83L4 21.41c.39.39.9.59 1.41.59.51 0 1.02-.2 1.41-.59l7.78-7.78 2.81-2.81c.8-.78.8-2.07 0-2.86zM5.41 20L4 18.59l7.72-7.72 1.47 1.35L5.41 20z\"/>\n",
              "  </svg>\n",
              "      </button>\n",
              "      \n",
              "  <style>\n",
              "    .colab-df-container {\n",
              "      display:flex;\n",
              "      flex-wrap:wrap;\n",
              "      gap: 12px;\n",
              "    }\n",
              "\n",
              "    .colab-df-convert {\n",
              "      background-color: #E8F0FE;\n",
              "      border: none;\n",
              "      border-radius: 50%;\n",
              "      cursor: pointer;\n",
              "      display: none;\n",
              "      fill: #1967D2;\n",
              "      height: 32px;\n",
              "      padding: 0 0 0 0;\n",
              "      width: 32px;\n",
              "    }\n",
              "\n",
              "    .colab-df-convert:hover {\n",
              "      background-color: #E2EBFA;\n",
              "      box-shadow: 0px 1px 2px rgba(60, 64, 67, 0.3), 0px 1px 3px 1px rgba(60, 64, 67, 0.15);\n",
              "      fill: #174EA6;\n",
              "    }\n",
              "\n",
              "    [theme=dark] .colab-df-convert {\n",
              "      background-color: #3B4455;\n",
              "      fill: #D2E3FC;\n",
              "    }\n",
              "\n",
              "    [theme=dark] .colab-df-convert:hover {\n",
              "      background-color: #434B5C;\n",
              "      box-shadow: 0px 1px 3px 1px rgba(0, 0, 0, 0.15);\n",
              "      filter: drop-shadow(0px 1px 2px rgba(0, 0, 0, 0.3));\n",
              "      fill: #FFFFFF;\n",
              "    }\n",
              "  </style>\n",
              "\n",
              "      <script>\n",
              "        const buttonEl =\n",
              "          document.querySelector('#df-16887455-8ba2-4d5a-9f4c-f0beab5aae82 button.colab-df-convert');\n",
              "        buttonEl.style.display =\n",
              "          google.colab.kernel.accessAllowed ? 'block' : 'none';\n",
              "\n",
              "        async function convertToInteractive(key) {\n",
              "          const element = document.querySelector('#df-16887455-8ba2-4d5a-9f4c-f0beab5aae82');\n",
              "          const dataTable =\n",
              "            await google.colab.kernel.invokeFunction('convertToInteractive',\n",
              "                                                     [key], {});\n",
              "          if (!dataTable) return;\n",
              "\n",
              "          const docLinkHtml = 'Like what you see? Visit the ' +\n",
              "            '<a target=\"_blank\" href=https://colab.research.google.com/notebooks/data_table.ipynb>data table notebook</a>'\n",
              "            + ' to learn more about interactive tables.';\n",
              "          element.innerHTML = '';\n",
              "          dataTable['output_type'] = 'display_data';\n",
              "          await google.colab.output.renderOutput(dataTable, element);\n",
              "          const docLink = document.createElement('div');\n",
              "          docLink.innerHTML = docLinkHtml;\n",
              "          element.appendChild(docLink);\n",
              "        }\n",
              "      </script>\n",
              "    </div>\n",
              "  </div>\n",
              "  "
            ]
          },
          "metadata": {},
          "execution_count": 7
        }
      ]
    },
    {
      "cell_type": "markdown",
      "metadata": {
        "id": "ZZKoTfHD8v3C"
      },
      "source": [
        "test to lineal regression"
      ]
    },
    {
      "cell_type": "code",
      "metadata": {
        "colab": {
          "base_uri": "https://localhost:8080/",
          "height": 275
        },
        "id": "WqpUDlWh80wY",
        "outputId": "d595523c-3cbf-47c7-b9eb-b925b5377799"
      },
      "source": [
        "corrMatrix = df.corr() #matrix of corr\n",
        "plt.matshow(corrMatrix)\n",
        "plt.show()"
      ],
      "execution_count": 8,
      "outputs": [
        {
          "output_type": "display_data",
          "data": {
            "text/plain": [
              "<Figure size 288x288 with 1 Axes>"
            ],
            "image/png": "[encoded data removed]"
          },
          "metadata": {
            "needs_background": "light"
          }
        }
      ]
    },
    {
      "cell_type": "markdown",
      "metadata": {
        "id": "ELVwwU9M9cuT"
      },
      "source": [
        "Yellow is where is a direct linear regression, and the matrix does not show correlation between vars into the var 30 which is what we want to predict, this because the dependent variable is binary. it may be used logistic regression logit probit"
      ]
    },
    {
      "cell_type": "markdown",
      "metadata": {
        "id": "WXvOOrNpOCbw"
      },
      "source": [
        "**Solve the problem**"
      ]
    },
    {
      "cell_type": "markdown",
      "metadata": {
        "id": "NFGX8GIM2FE9"
      },
      "source": [
        "First we separate between our X wich is the first 30 variables, and our Y which is what we want to predict."
      ]
    },
    {
      "cell_type": "code",
      "metadata": {
        "colab": {
          "base_uri": "https://localhost:8080/",
          "height": 235
        },
        "id": "iQpRHE395vHN",
        "outputId": "3cd0412c-babd-4c9f-d4f5-06f0c62e11fc"
      },
      "source": [
        "df_x = df.iloc[:,0:30]\n",
        "df_x.head()"
      ],
      "execution_count": 9,
      "outputs": [
        {
          "output_type": "execute_result",
          "data": {
            "text/plain": [
              "    0   1   2   3     4   5   6  7   8    9  ...  20  21  22  23  24  25  26  \\\n",
              "0  11   6  34  43  1169  65  75  4  93  101  ...   5   8  68   5   8  73   6   \n",
              "1  12  48  32  43  5951  61  73  2  92  101  ...   3  49  23   3   4  70   3   \n",
              "2  14  12  34  46  2096  61  74  2  93  101  ...   5  13  51   5   5  61   4   \n",
              "3  11  42  32  42  7882  61  74  2  93  103  ...   6  43  47   6   6  87   5   \n",
              "4  11  24  33  40  4870  61  73  3  93  101  ...   6  26  55   6   7  77   6   \n",
              "\n",
              "   27    28  29  \n",
              "0   8  1236   3  \n",
              "1   4  5973   2  \n",
              "2   4  2145   3  \n",
              "3   4  7927   3  \n",
              "4   6  4923   4  \n",
              "\n",
              "[5 rows x 30 columns]"
            ],
            "text/html": [
              "\n",
              "  <div id=\"df-28969486-7d85-4f74-acac-82750805fe5c\">\n",
              "    <div class=\"colab-df-container\">\n",
              "      <div>\n",
              "<style scoped>\n",
              "    .dataframe tbody tr th:only-of-type {\n",
              "        vertical-align: middle;\n",
              "    }\n",
              "\n",
              "    .dataframe tbody tr th {\n",
              "        vertical-align: top;\n",
              "    }\n",
              "\n",
              "    .dataframe thead th {\n",
              "        text-align: right;\n",
              "    }\n",
              "</style>\n",
              "<table border=\"1\" class=\"dataframe\">\n",
              "  <thead>\n",
              "    <tr style=\"text-align: right;\">\n",
              "      <th></th>\n",
              "      <th>0</th>\n",
              "      <th>1</th>\n",
              "      <th>2</th>\n",
              "      <th>3</th>\n",
              "      <th>4</th>\n",
              "      <th>5</th>\n",
              "      <th>6</th>\n",
              "      <th>7</th>\n",
              "      <th>8</th>\n",
              "      <th>9</th>\n",
              "      <th>...</th>\n",
              "      <th>20</th>\n",
              "      <th>21</th>\n",
              "      <th>22</th>\n",
              "      <th>23</th>\n",
              "      <th>24</th>\n",
              "      <th>25</th>\n",
              "      <th>26</th>\n",
              "      <th>27</th>\n",
              "      <th>28</th>\n",
              "      <th>29</th>\n",
              "    </tr>\n",
              "  </thead>\n",
              "  <tbody>\n",
              "    <tr>\n",
              "      <th>0</th>\n",
              "      <td>11</td>\n",
              "      <td>6</td>\n",
              "      <td>34</td>\n",
              "      <td>43</td>\n",
              "      <td>1169</td>\n",
              "      <td>65</td>\n",
              "      <td>75</td>\n",
              "      <td>4</td>\n",
              "      <td>93</td>\n",
              "      <td>101</td>\n",
              "      <td>...</td>\n",
              "      <td>5</td>\n",
              "      <td>8</td>\n",
              "      <td>68</td>\n",
              "      <td>5</td>\n",
              "      <td>8</td>\n",
              "      <td>73</td>\n",
              "      <td>6</td>\n",
              "      <td>8</td>\n",
              "      <td>1236</td>\n",
              "      <td>3</td>\n",
              "    </tr>\n",
              "    <tr>\n",
              "      <th>1</th>\n",
              "      <td>12</td>\n",
              "      <td>48</td>\n",
              "      <td>32</td>\n",
              "      <td>43</td>\n",
              "      <td>5951</td>\n",
              "      <td>61</td>\n",
              "      <td>73</td>\n",
              "      <td>2</td>\n",
              "      <td>92</td>\n",
              "      <td>101</td>\n",
              "      <td>...</td>\n",
              "      <td>3</td>\n",
              "      <td>49</td>\n",
              "      <td>23</td>\n",
              "      <td>3</td>\n",
              "      <td>4</td>\n",
              "      <td>70</td>\n",
              "      <td>3</td>\n",
              "      <td>4</td>\n",
              "      <td>5973</td>\n",
              "      <td>2</td>\n",
              "    </tr>\n",
              "    <tr>\n",
              "      <th>2</th>\n",
              "      <td>14</td>\n",
              "      <td>12</td>\n",
              "      <td>34</td>\n",
              "      <td>46</td>\n",
              "      <td>2096</td>\n",
              "      <td>61</td>\n",
              "      <td>74</td>\n",
              "      <td>2</td>\n",
              "      <td>93</td>\n",
              "      <td>101</td>\n",
              "      <td>...</td>\n",
              "      <td>5</td>\n",
              "      <td>13</td>\n",
              "      <td>51</td>\n",
              "      <td>5</td>\n",
              "      <td>5</td>\n",
              "      <td>61</td>\n",
              "      <td>4</td>\n",
              "      <td>4</td>\n",
              "      <td>2145</td>\n",
              "      <td>3</td>\n",
              "    </tr>\n",
              "    <tr>\n",
              "      <th>3</th>\n",
              "      <td>11</td>\n",
              "      <td>42</td>\n",
              "      <td>32</td>\n",
              "      <td>42</td>\n",
              "      <td>7882</td>\n",
              "      <td>61</td>\n",
              "      <td>74</td>\n",
              "      <td>2</td>\n",
              "      <td>93</td>\n",
              "      <td>103</td>\n",
              "      <td>...</td>\n",
              "      <td>6</td>\n",
              "      <td>43</td>\n",
              "      <td>47</td>\n",
              "      <td>6</td>\n",
              "      <td>6</td>\n",
              "      <td>87</td>\n",
              "      <td>5</td>\n",
              "      <td>4</td>\n",
              "      <td>7927</td>\n",
              "      <td>3</td>\n",
              "    </tr>\n",
              "    <tr>\n",
              "      <th>4</th>\n",
              "      <td>11</td>\n",
              "      <td>24</td>\n",
              "      <td>33</td>\n",
              "      <td>40</td>\n",
              "      <td>4870</td>\n",
              "      <td>61</td>\n",
              "      <td>73</td>\n",
              "      <td>3</td>\n",
              "      <td>93</td>\n",
              "      <td>101</td>\n",
              "      <td>...</td>\n",
              "      <td>6</td>\n",
              "      <td>26</td>\n",
              "      <td>55</td>\n",
              "      <td>6</td>\n",
              "      <td>7</td>\n",
              "      <td>77</td>\n",
              "      <td>6</td>\n",
              "      <td>6</td>\n",
              "      <td>4923</td>\n",
              "      <td>4</td>\n",
              "    </tr>\n",
              "  </tbody>\n",
              "</table>\n",
              "<p>5 rows × 30 columns</p>\n",
              "</div>\n",
              "      <button class=\"colab-df-convert\" onclick=\"convertToInteractive('df-28969486-7d85-4f74-acac-82750805fe5c')\"\n",
              "              title=\"Convert this dataframe to an interactive table.\"\n",
              "              style=\"display:none;\">\n",
              "        \n",
              "  <svg xmlns=\"http://www.w3.org/2000/svg\" height=\"24px\"viewBox=\"0 0 24 24\"\n",
              "       width=\"24px\">\n",
              "    <path d=\"M0 0h24v24H0V0z\" fill=\"none\"/>\n",
              "    <path d=\"M18.56 5.44l.94 2.06.94-2.06 2.06-.94-2.06-.94-.94-2.06-.94 2.06-2.06.94zm-11 1L8.5 8.5l.94-2.06 2.06-.94-2.06-.94L8.5 2.5l-.94 2.06-2.06.94zm10 10l.94 2.06.94-2.06 2.06-.94-2.06-.94-.94-2.06-.94 2.06-2.06.94z\"/><path d=\"M17.41 7.96l-1.37-1.37c-.4-.4-.92-.59-1.43-.59-.52 0-1.04.2-1.43.59L10.3 9.45l-7.72 7.72c-.78.78-.78 2.05 0 2.83L4 21.41c.39.39.9.59 1.41.59.51 0 1.02-.2 1.41-.59l7.78-7.78 2.81-2.81c.8-.78.8-2.07 0-2.86zM5.41 20L4 18.59l7.72-7.72 1.47 1.35L5.41 20z\"/>\n",
              "  </svg>\n",
              "      </button>\n",
              "      \n",
              "  <style>\n",
              "    .colab-df-container {\n",
              "      display:flex;\n",
              "      flex-wrap:wrap;\n",
              "      gap: 12px;\n",
              "    }\n",
              "\n",
              "    .colab-df-convert {\n",
              "      background-color: #E8F0FE;\n",
              "      border: none;\n",
              "      border-radius: 50%;\n",
              "      cursor: pointer;\n",
              "      display: none;\n",
              "      fill: #1967D2;\n",
              "      height: 32px;\n",
              "      padding: 0 0 0 0;\n",
              "      width: 32px;\n",
              "    }\n",
              "\n",
              "    .colab-df-convert:hover {\n",
              "      background-color: #E2EBFA;\n",
              "      box-shadow: 0px 1px 2px rgba(60, 64, 67, 0.3), 0px 1px 3px 1px rgba(60, 64, 67, 0.15);\n",
              "      fill: #174EA6;\n",
              "    }\n",
              "\n",
              "    [theme=dark] .colab-df-convert {\n",
              "      background-color: #3B4455;\n",
              "      fill: #D2E3FC;\n",
              "    }\n",
              "\n",
              "    [theme=dark] .colab-df-convert:hover {\n",
              "      background-color: #434B5C;\n",
              "      box-shadow: 0px 1px 3px 1px rgba(0, 0, 0, 0.15);\n",
              "      filter: drop-shadow(0px 1px 2px rgba(0, 0, 0, 0.3));\n",
              "      fill: #FFFFFF;\n",
              "    }\n",
              "  </style>\n",
              "\n",
              "      <script>\n",
              "        const buttonEl =\n",
              "          document.querySelector('#df-28969486-7d85-4f74-acac-82750805fe5c button.colab-df-convert');\n",
              "        buttonEl.style.display =\n",
              "          google.colab.kernel.accessAllowed ? 'block' : 'none';\n",
              "\n",
              "        async function convertToInteractive(key) {\n",
              "          const element = document.querySelector('#df-28969486-7d85-4f74-acac-82750805fe5c');\n",
              "          const dataTable =\n",
              "            await google.colab.kernel.invokeFunction('convertToInteractive',\n",
              "                                                     [key], {});\n",
              "          if (!dataTable) return;\n",
              "\n",
              "          const docLinkHtml = 'Like what you see? Visit the ' +\n",
              "            '<a target=\"_blank\" href=https://colab.research.google.com/notebooks/data_table.ipynb>data table notebook</a>'\n",
              "            + ' to learn more about interactive tables.';\n",
              "          element.innerHTML = '';\n",
              "          dataTable['output_type'] = 'display_data';\n",
              "          await google.colab.output.renderOutput(dataTable, element);\n",
              "          const docLink = document.createElement('div');\n",
              "          docLink.innerHTML = docLinkHtml;\n",
              "          element.appendChild(docLink);\n",
              "        }\n",
              "      </script>\n",
              "    </div>\n",
              "  </div>\n",
              "  "
            ]
          },
          "metadata": {},
          "execution_count": 9
        }
      ]
    },
    {
      "cell_type": "code",
      "metadata": {
        "colab": {
          "base_uri": "https://localhost:8080/"
        },
        "id": "LwtjTxwQ7tru",
        "outputId": "22b06efc-e83f-4160-c153-75e1ce168d40"
      },
      "source": [
        "df_y = df.iloc[:,30]\n",
        "df_y.head()"
      ],
      "execution_count": 10,
      "outputs": [
        {
          "output_type": "execute_result",
          "data": {
            "text/plain": [
              "0    0\n",
              "1    1\n",
              "2    0\n",
              "3    0\n",
              "4    1\n",
              "Name: 30, dtype: int64"
            ]
          },
          "metadata": {},
          "execution_count": 10
        }
      ]
    },
    {
      "cell_type": "markdown",
      "source": [
        "Now we split the model into 2 groups 70% to train and 30% to test our model."
      ],
      "metadata": {
        "id": "EOvEMuV4N4KS"
      }
    },
    {
      "cell_type": "code",
      "metadata": {
        "colab": {
          "base_uri": "https://localhost:8080/"
        },
        "id": "jCLy9f1K2F7b",
        "outputId": "260b2d70-966d-45f3-e9a7-1d3e431c1f99"
      },
      "source": [
        "from sklearn.model_selection import train_test_split\n",
        "X_train, X_test, y_train, y_test = train_test_split(df_x.values, df_y.values, \n",
        "                                                    stratify=df_y.values, \n",
        "                                                    random_state=42, test_size=0.3 ) # here is the selected 30% of observation for testing.\n",
        "print (X_train.shape, y_train.shape)\n",
        "print (X_test.shape, y_test.shape)"
      ],
      "execution_count": 11,
      "outputs": [
        {
          "output_type": "stream",
          "name": "stdout",
          "text": [
            "(700, 30) (700,)\n",
            "(300, 30) (300,)\n"
          ]
        }
      ]
    },
    {
      "cell_type": "markdown",
      "source": [
        "As it is expected our Data to train our model is 700 rows x 30 columns and 700 rows x 1 columns. And our Data to test our model is 300 rows x 30 columns and 300 rows x 1 column."
      ],
      "metadata": {
        "id": "cuZs0v5hOL69"
      }
    },
    {
      "cell_type": "markdown",
      "source": [
        "**Model 1: Tree classifier**"
      ],
      "metadata": {
        "id": "TiBEkUH7O-r6"
      }
    },
    {
      "cell_type": "markdown",
      "metadata": {
        "id": "ehZ4U-yqDzCd"
      },
      "source": [
        "Bucle for selection \"max_depth\""
      ]
    },
    {
      "cell_type": "code",
      "metadata": {
        "id": "0N2ZrvNNDwVv"
      },
      "source": [
        "md_list = []\n",
        "score_train_list = []\n",
        "score_test_list = []\n",
        "\n",
        "for maxdepth in list(range(1,10)):\n",
        "  tree_model = DecisionTreeClassifier(random_state=0, max_depth=maxdepth)\n",
        "  tree_model.fit(X_train, y_train)\n",
        "\n",
        "  #Generation of list\n",
        "  md_list.append(maxdepth)\n",
        "  score_train_list.append(100.0*tree_model.score(X_train, y_train))\n",
        "  score_test_list.append(100.0*tree_model.score(X_test, y_test))\n",
        "\n",
        "df = pd.DataFrame({\"max_depth\":md_list, \n",
        "                   \"score_train\":score_train_list,\n",
        "                   \"score_test\":score_test_list})"
      ],
      "execution_count": 12,
      "outputs": []
    },
    {
      "cell_type": "code",
      "metadata": {
        "colab": {
          "base_uri": "https://localhost:8080/",
          "height": 309
        },
        "id": "SWmoAcZFEAZb",
        "outputId": "c046c516-fcdc-41ba-f3e3-86588377ed98"
      },
      "source": [
        "df.set_index(\"max_depth\", inplace=True)\n",
        "df[\"score_train\"].plot(label=\"Train Score\")\n",
        "df[\"score_test\"].plot(label=\"Test Score\")\n",
        "plt.suptitle(\"Overfitting vs Underfitting\")\n",
        "plt.legend()\n",
        "plt.show();"
      ],
      "execution_count": 13,
      "outputs": [
        {
          "output_type": "display_data",
          "data": {
            "text/plain": [
              "<Figure size 432x288 with 1 Axes>"
            ],
            "image/png": "[encoded data removed]"
          },
          "metadata": {
            "needs_background": "light"
          }
        }
      ]
    },
    {
      "cell_type": "markdown",
      "metadata": {
        "id": "SC2ohUfYEG7T"
      },
      "source": [
        "for 1 and 2 is exactly the same for 3 and for is still improving with a little of overfitting, and then in five the test score decrease substantially. Therefore, a max_depth 4 is choosen."
      ]
    },
    {
      "cell_type": "markdown",
      "metadata": {
        "id": "8pnLCUYMEQly"
      },
      "source": [
        "Therefore, we train the model"
      ]
    },
    {
      "cell_type": "code",
      "metadata": {
        "colab": {
          "base_uri": "https://localhost:8080/"
        },
        "id": "w_76d8F1ESV5",
        "outputId": "4bc35f97-4e71-4b99-8e1f-26aa1bcd7186"
      },
      "source": [
        "tree_model = DecisionTreeClassifier(random_state=0, max_depth=4)\n",
        "tree_model.fit(X_train, y_train) #here the model is trained\n",
        "pred_train = tree_model.predict(X_train)\n",
        "pred_test = tree_model.predict(X_test)\n",
        "print(\"Accuracy over training data: {:.2f}\".format(100.0*tree_model.score(X_train, y_train)))\n",
        "print(\"Accuracy on test data: {:.2f}\".format(100.0*tree_model.score(X_test, y_test)))"
      ],
      "execution_count": 14,
      "outputs": [
        {
          "output_type": "stream",
          "name": "stdout",
          "text": [
            "Accuracy over training data: 76.86\n",
            "Accuracy on test data: 74.00\n"
          ]
        }
      ]
    },
    {
      "cell_type": "markdown",
      "metadata": {
        "id": "o1QjSJuZEdiJ"
      },
      "source": [
        "Graph generation for analysis"
      ]
    },
    {
      "cell_type": "code",
      "metadata": {
        "colab": {
          "base_uri": "https://localhost:8080/",
          "height": 901
        },
        "id": "1f2ZRG9_EeZx",
        "outputId": "b6dd40f1-5db9-45e9-b6ed-16878f08350f"
      },
      "source": [
        "\n",
        "plt.figure(figsize=(20,16))\n",
        "plot_tree(tree_model, filled=True, max_depth=3, feature_names=df_x.columns, class_names=['does not pay','pay'])\n",
        "plt.show()"
      ],
      "execution_count": 15,
      "outputs": [
        {
          "output_type": "display_data",
          "data": {
            "text/plain": [
              "<Figure size 1440x1152 with 1 Axes>"
            ],
            "image/png": "[encoded data removed]"
          },
          "metadata": {
            "needs_background": "light"
          }
        }
      ]
    },
    {
      "cell_type": "markdown",
      "metadata": {
        "id": "dsbYmwwpGIWw"
      },
      "source": [
        "Now is displayed the Confusion matrix"
      ]
    },
    {
      "cell_type": "code",
      "metadata": {
        "colab": {
          "base_uri": "https://localhost:8080/",
          "height": 368
        },
        "id": "QToN1mhhG7aA",
        "outputId": "b32918c5-7198-4c5c-e543-a822cb13b399"
      },
      "source": [
        "from sklearn.metrics import plot_confusion_matrix # we import library to display confusion matrix\n",
        "print(f\"Confusion matrix:\\n\")\n",
        "disp = plot_confusion_matrix(tree_model, X_test, y_test)\n",
        "plt.show()"
      ],
      "execution_count": 16,
      "outputs": [
        {
          "output_type": "stream",
          "name": "stdout",
          "text": [
            "Confusion matrix:\n",
            "\n"
          ]
        },
        {
          "output_type": "stream",
          "name": "stderr",
          "text": [
            "/usr/local/lib/python3.8/dist-packages/sklearn/utils/deprecation.py:87: FutureWarning: Function plot_confusion_matrix is deprecated; Function `plot_confusion_matrix` is deprecated in 1.0 and will be removed in 1.2. Use one of the class methods: ConfusionMatrixDisplay.from_predictions or ConfusionMatrixDisplay.from_estimator.\n",
            "  warnings.warn(msg, category=FutureWarning)\n"
          ]
        },
        {
          "output_type": "display_data",
          "data": {
            "text/plain": [
              "<Figure size 432x288 with 2 Axes>"
            ],
            "image/png": "[encoded data removed]"
          },
          "metadata": {
            "needs_background": "light"
          }
        }
      ]
    },
    {
      "cell_type": "markdown",
      "metadata": {
        "id": "J4Md3HxTHf6T"
      },
      "source": [
        "for a depth= 4 when the model should predict 0, most of the time it was right, but when it should predict 1 its result is a little more random. Therefore when the model says it is a bad payer it is more reliable than when it says is a well payer."
      ]
    },
    {
      "cell_type": "markdown",
      "metadata": {
        "id": "12bOsNjCFqvn"
      },
      "source": [
        "**Calculation of the Importance of the Variables**"
      ]
    },
    {
      "cell_type": "code",
      "metadata": {
        "colab": {
          "base_uri": "https://localhost:8080/",
          "height": 266
        },
        "id": "Jp2XwMtWFsmB",
        "outputId": "4a66e24e-8029-4960-e68a-f7fefefa10a1"
      },
      "source": [
        "df_imp = pd.DataFrame(tree_model.feature_importances_.reshape(1,-1), columns=df_x.columns, index=[\"Most important variables\"])\n",
        "df_imp.T.plot.barh()\n",
        "plt.legend()\n",
        "plt.show();"
      ],
      "execution_count": 17,
      "outputs": [
        {
          "output_type": "display_data",
          "data": {
            "text/plain": [
              "<Figure size 432x288 with 1 Axes>"
            ],
            "image/png": "[encoded data removed]"
          },
          "metadata": {
            "needs_background": "light"
          }
        }
      ]
    },
    {
      "cell_type": "markdown",
      "metadata": {
        "id": "vNX86f0wKaGS"
      },
      "source": [
        "The most important variables are shown here, considering depth=4. If we choose these 10 variables and run the model again, it should not change substantially. With a depth 3 the variables would be less, and we would lose a bit of fitting, as variables that affect the model the most are removed, the more the prediction will vary."
      ]
    },
    {
      "cell_type": "markdown",
      "metadata": {
        "id": "166KIky5yJgG"
      },
      "source": [
        "**Model 2: Logistic regression**"
      ]
    },
    {
      "cell_type": "code",
      "metadata": {
        "colab": {
          "base_uri": "https://localhost:8080/"
        },
        "id": "5piIVYEFyKTQ",
        "outputId": "a0d2819b-384b-4cd3-e9d6-ef3ea722c3b2"
      },
      "source": [
        "#We start the model\n",
        "log_regression = LogisticRegression()\n",
        "\n",
        "#we fit the model using the training data\n",
        "log_regression.fit(X_train,y_train)\n",
        "\n",
        "#we use the model to predict the probability that the given y-value is 1\n",
        "y_pred_proba = log_regression.predict_proba(X_test)[::,1]\n",
        "\n",
        "#We calculate the AUC of the model\n",
        "auc = metrics.roc_auc_score(y_test, y_pred_proba)\n",
        "\n",
        "#print AUC score\n",
        "print(auc)"
      ],
      "execution_count": 18,
      "outputs": [
        {
          "output_type": "stream",
          "name": "stdout",
          "text": [
            "0.7812169312169313\n"
          ]
        },
        {
          "output_type": "stream",
          "name": "stderr",
          "text": [
            "/usr/local/lib/python3.8/dist-packages/sklearn/linear_model/_logistic.py:814: ConvergenceWarning: lbfgs failed to converge (status=1):\n",
            "STOP: TOTAL NO. of ITERATIONS REACHED LIMIT.\n",
            "\n",
            "Increase the number of iterations (max_iter) or scale the data as shown in:\n",
            "    https://scikit-learn.org/stable/modules/preprocessing.html\n",
            "Please also refer to the documentation for alternative solver options:\n",
            "    https://scikit-learn.org/stable/modules/linear_model.html#logistic-regression\n",
            "  n_iter_i = _check_optimize_result(\n"
          ]
        }
      ]
    },
    {
      "cell_type": "markdown",
      "metadata": {
        "id": "t2HuzrHp0dld"
      },
      "source": [
        "0.78 is pretty close to 1, so it's a good model based on this indicator."
      ]
    },
    {
      "cell_type": "markdown",
      "source": [
        "**Model 3 KNeighbors**"
      ],
      "metadata": {
        "id": "2Urfi3ZkW6yK"
      }
    },
    {
      "cell_type": "code",
      "source": [
        "#Now we scale the variables\n",
        "scaler = StandardScaler()\n",
        "scaled = scaler.fit(df_x.iloc[:,0:31]).transform(df_x.iloc[:,0:31])\n",
        "\n",
        "df_x_scaled = pd.DataFrame(scaled, columns=df_x.columns[:31])\n",
        "df_x_scaled.head()"
      ],
      "metadata": {
        "colab": {
          "base_uri": "https://localhost:8080/",
          "height": 299
        },
        "id": "cTvEz_7hi8VU",
        "outputId": "83745988-1c14-447f-9e35-aa30e3aa5450"
      },
      "execution_count": 19,
      "outputs": [
        {
          "output_type": "execute_result",
          "data": {
            "text/plain": [
              "          0         1         2         3         4         5         6  \\\n",
              "0 -1.254566 -1.236478  1.344014 -0.103505 -0.745131  1.833169  1.338078   \n",
              "1 -0.459026  2.248194 -0.503428 -0.103505  0.949817 -0.699707 -0.317959   \n",
              "2  1.132053 -0.738668  1.344014 -0.028646 -0.416562 -0.699707  0.510060   \n",
              "3 -1.254566  1.750384 -0.503428 -0.128458  1.634247 -0.699707  0.510060   \n",
              "4 -1.254566  0.256953  0.420293 -0.178364  0.566664 -0.699707 -0.317959   \n",
              "\n",
              "          7         8         9  ...        20        21        22        23  \\\n",
              "0  0.918477  0.449326 -0.303686  ...  0.850640 -1.186558  2.741147  0.850640   \n",
              "1 -0.870183 -0.963650 -0.303686  ... -0.850640  2.213084 -1.199925 -0.850640   \n",
              "2 -0.870183  0.449326 -0.303686  ...  0.850640 -0.771967  1.252297  0.850640   \n",
              "3 -0.870183  0.449326  3.885083  ...  1.701281  1.715575  0.901980  1.701281   \n",
              "4  0.024147  0.449326 -0.303686  ...  1.701281  0.305968  1.602615  1.701281   \n",
              "\n",
              "         24        25        26        27        28        29  \n",
              "0  1.356123  1.017416  1.354878  0.918477 -0.733880  0.613229  \n",
              "1 -1.129895  0.833001 -0.970427 -0.870183  0.944883 -0.786837  \n",
              "2 -0.508391  0.279757 -0.195326 -0.870183 -0.411736  0.613229  \n",
              "3  0.113114  1.878018  0.579776 -0.870183  1.637369  0.613229  \n",
              "4  0.734618  1.263302  1.354878  0.024147  0.572770  2.013295  \n",
              "\n",
              "[5 rows x 30 columns]"
            ],
            "text/html": [
              "\n",
              "  <div id=\"df-0d44828d-c718-4318-8e92-59520c9a9888\">\n",
              "    <div class=\"colab-df-container\">\n",
              "      <div>\n",
              "<style scoped>\n",
              "    .dataframe tbody tr th:only-of-type {\n",
              "        vertical-align: middle;\n",
              "    }\n",
              "\n",
              "    .dataframe tbody tr th {\n",
              "        vertical-align: top;\n",
              "    }\n",
              "\n",
              "    .dataframe thead th {\n",
              "        text-align: right;\n",
              "    }\n",
              "</style>\n",
              "<table border=\"1\" class=\"dataframe\">\n",
              "  <thead>\n",
              "    <tr style=\"text-align: right;\">\n",
              "      <th></th>\n",
              "      <th>0</th>\n",
              "      <th>1</th>\n",
              "      <th>2</th>\n",
              "      <th>3</th>\n",
              "      <th>4</th>\n",
              "      <th>5</th>\n",
              "      <th>6</th>\n",
              "      <th>7</th>\n",
              "      <th>8</th>\n",
              "      <th>9</th>\n",
              "      <th>...</th>\n",
              "      <th>20</th>\n",
              "      <th>21</th>\n",
              "      <th>22</th>\n",
              "      <th>23</th>\n",
              "      <th>24</th>\n",
              "      <th>25</th>\n",
              "      <th>26</th>\n",
              "      <th>27</th>\n",
              "      <th>28</th>\n",
              "      <th>29</th>\n",
              "    </tr>\n",
              "  </thead>\n",
              "  <tbody>\n",
              "    <tr>\n",
              "      <th>0</th>\n",
              "      <td>-1.254566</td>\n",
              "      <td>-1.236478</td>\n",
              "      <td>1.344014</td>\n",
              "      <td>-0.103505</td>\n",
              "      <td>-0.745131</td>\n",
              "      <td>1.833169</td>\n",
              "      <td>1.338078</td>\n",
              "      <td>0.918477</td>\n",
              "      <td>0.449326</td>\n",
              "      <td>-0.303686</td>\n",
              "      <td>...</td>\n",
              "      <td>0.850640</td>\n",
              "      <td>-1.186558</td>\n",
              "      <td>2.741147</td>\n",
              "      <td>0.850640</td>\n",
              "      <td>1.356123</td>\n",
              "      <td>1.017416</td>\n",
              "      <td>1.354878</td>\n",
              "      <td>0.918477</td>\n",
              "      <td>-0.733880</td>\n",
              "      <td>0.613229</td>\n",
              "    </tr>\n",
              "    <tr>\n",
              "      <th>1</th>\n",
              "      <td>-0.459026</td>\n",
              "      <td>2.248194</td>\n",
              "      <td>-0.503428</td>\n",
              "      <td>-0.103505</td>\n",
              "      <td>0.949817</td>\n",
              "      <td>-0.699707</td>\n",
              "      <td>-0.317959</td>\n",
              "      <td>-0.870183</td>\n",
              "      <td>-0.963650</td>\n",
              "      <td>-0.303686</td>\n",
              "      <td>...</td>\n",
              "      <td>-0.850640</td>\n",
              "      <td>2.213084</td>\n",
              "      <td>-1.199925</td>\n",
              "      <td>-0.850640</td>\n",
              "      <td>-1.129895</td>\n",
              "      <td>0.833001</td>\n",
              "      <td>-0.970427</td>\n",
              "      <td>-0.870183</td>\n",
              "      <td>0.944883</td>\n",
              "      <td>-0.786837</td>\n",
              "    </tr>\n",
              "    <tr>\n",
              "      <th>2</th>\n",
              "      <td>1.132053</td>\n",
              "      <td>-0.738668</td>\n",
              "      <td>1.344014</td>\n",
              "      <td>-0.028646</td>\n",
              "      <td>-0.416562</td>\n",
              "      <td>-0.699707</td>\n",
              "      <td>0.510060</td>\n",
              "      <td>-0.870183</td>\n",
              "      <td>0.449326</td>\n",
              "      <td>-0.303686</td>\n",
              "      <td>...</td>\n",
              "      <td>0.850640</td>\n",
              "      <td>-0.771967</td>\n",
              "      <td>1.252297</td>\n",
              "      <td>0.850640</td>\n",
              "      <td>-0.508391</td>\n",
              "      <td>0.279757</td>\n",
              "      <td>-0.195326</td>\n",
              "      <td>-0.870183</td>\n",
              "      <td>-0.411736</td>\n",
              "      <td>0.613229</td>\n",
              "    </tr>\n",
              "    <tr>\n",
              "      <th>3</th>\n",
              "      <td>-1.254566</td>\n",
              "      <td>1.750384</td>\n",
              "      <td>-0.503428</td>\n",
              "      <td>-0.128458</td>\n",
              "      <td>1.634247</td>\n",
              "      <td>-0.699707</td>\n",
              "      <td>0.510060</td>\n",
              "      <td>-0.870183</td>\n",
              "      <td>0.449326</td>\n",
              "      <td>3.885083</td>\n",
              "      <td>...</td>\n",
              "      <td>1.701281</td>\n",
              "      <td>1.715575</td>\n",
              "      <td>0.901980</td>\n",
              "      <td>1.701281</td>\n",
              "      <td>0.113114</td>\n",
              "      <td>1.878018</td>\n",
              "      <td>0.579776</td>\n",
              "      <td>-0.870183</td>\n",
              "      <td>1.637369</td>\n",
              "      <td>0.613229</td>\n",
              "    </tr>\n",
              "    <tr>\n",
              "      <th>4</th>\n",
              "      <td>-1.254566</td>\n",
              "      <td>0.256953</td>\n",
              "      <td>0.420293</td>\n",
              "      <td>-0.178364</td>\n",
              "      <td>0.566664</td>\n",
              "      <td>-0.699707</td>\n",
              "      <td>-0.317959</td>\n",
              "      <td>0.024147</td>\n",
              "      <td>0.449326</td>\n",
              "      <td>-0.303686</td>\n",
              "      <td>...</td>\n",
              "      <td>1.701281</td>\n",
              "      <td>0.305968</td>\n",
              "      <td>1.602615</td>\n",
              "      <td>1.701281</td>\n",
              "      <td>0.734618</td>\n",
              "      <td>1.263302</td>\n",
              "      <td>1.354878</td>\n",
              "      <td>0.024147</td>\n",
              "      <td>0.572770</td>\n",
              "      <td>2.013295</td>\n",
              "    </tr>\n",
              "  </tbody>\n",
              "</table>\n",
              "<p>5 rows × 30 columns</p>\n",
              "</div>\n",
              "      <button class=\"colab-df-convert\" onclick=\"convertToInteractive('df-0d44828d-c718-4318-8e92-59520c9a9888')\"\n",
              "              title=\"Convert this dataframe to an interactive table.\"\n",
              "              style=\"display:none;\">\n",
              "        \n",
              "  <svg xmlns=\"http://www.w3.org/2000/svg\" height=\"24px\"viewBox=\"0 0 24 24\"\n",
              "       width=\"24px\">\n",
              "    <path d=\"M0 0h24v24H0V0z\" fill=\"none\"/>\n",
              "    <path d=\"M18.56 5.44l.94 2.06.94-2.06 2.06-.94-2.06-.94-.94-2.06-.94 2.06-2.06.94zm-11 1L8.5 8.5l.94-2.06 2.06-.94-2.06-.94L8.5 2.5l-.94 2.06-2.06.94zm10 10l.94 2.06.94-2.06 2.06-.94-2.06-.94-.94-2.06-.94 2.06-2.06.94z\"/><path d=\"M17.41 7.96l-1.37-1.37c-.4-.4-.92-.59-1.43-.59-.52 0-1.04.2-1.43.59L10.3 9.45l-7.72 7.72c-.78.78-.78 2.05 0 2.83L4 21.41c.39.39.9.59 1.41.59.51 0 1.02-.2 1.41-.59l7.78-7.78 2.81-2.81c.8-.78.8-2.07 0-2.86zM5.41 20L4 18.59l7.72-7.72 1.47 1.35L5.41 20z\"/>\n",
              "  </svg>\n",
              "      </button>\n",
              "      \n",
              "  <style>\n",
              "    .colab-df-container {\n",
              "      display:flex;\n",
              "      flex-wrap:wrap;\n",
              "      gap: 12px;\n",
              "    }\n",
              "\n",
              "    .colab-df-convert {\n",
              "      background-color: #E8F0FE;\n",
              "      border: none;\n",
              "      border-radius: 50%;\n",
              "      cursor: pointer;\n",
              "      display: none;\n",
              "      fill: #1967D2;\n",
              "      height: 32px;\n",
              "      padding: 0 0 0 0;\n",
              "      width: 32px;\n",
              "    }\n",
              "\n",
              "    .colab-df-convert:hover {\n",
              "      background-color: #E2EBFA;\n",
              "      box-shadow: 0px 1px 2px rgba(60, 64, 67, 0.3), 0px 1px 3px 1px rgba(60, 64, 67, 0.15);\n",
              "      fill: #174EA6;\n",
              "    }\n",
              "\n",
              "    [theme=dark] .colab-df-convert {\n",
              "      background-color: #3B4455;\n",
              "      fill: #D2E3FC;\n",
              "    }\n",
              "\n",
              "    [theme=dark] .colab-df-convert:hover {\n",
              "      background-color: #434B5C;\n",
              "      box-shadow: 0px 1px 3px 1px rgba(0, 0, 0, 0.15);\n",
              "      filter: drop-shadow(0px 1px 2px rgba(0, 0, 0, 0.3));\n",
              "      fill: #FFFFFF;\n",
              "    }\n",
              "  </style>\n",
              "\n",
              "      <script>\n",
              "        const buttonEl =\n",
              "          document.querySelector('#df-0d44828d-c718-4318-8e92-59520c9a9888 button.colab-df-convert');\n",
              "        buttonEl.style.display =\n",
              "          google.colab.kernel.accessAllowed ? 'block' : 'none';\n",
              "\n",
              "        async function convertToInteractive(key) {\n",
              "          const element = document.querySelector('#df-0d44828d-c718-4318-8e92-59520c9a9888');\n",
              "          const dataTable =\n",
              "            await google.colab.kernel.invokeFunction('convertToInteractive',\n",
              "                                                     [key], {});\n",
              "          if (!dataTable) return;\n",
              "\n",
              "          const docLinkHtml = 'Like what you see? Visit the ' +\n",
              "            '<a target=\"_blank\" href=https://colab.research.google.com/notebooks/data_table.ipynb>data table notebook</a>'\n",
              "            + ' to learn more about interactive tables.';\n",
              "          element.innerHTML = '';\n",
              "          dataTable['output_type'] = 'display_data';\n",
              "          await google.colab.output.renderOutput(dataTable, element);\n",
              "          const docLink = document.createElement('div');\n",
              "          docLink.innerHTML = docLinkHtml;\n",
              "          element.appendChild(docLink);\n",
              "        }\n",
              "      </script>\n",
              "    </div>\n",
              "  </div>\n",
              "  "
            ]
          },
          "metadata": {},
          "execution_count": 19
        }
      ]
    },
    {
      "cell_type": "code",
      "source": [
        "#Se calcula el K con mejor accuracy o precisión \n",
        "preds_list = []\n",
        "score_list = []\n",
        "k_list = []\n",
        "\n",
        "for k in list(range(1, 20, 2)):\n",
        "  knn_model = KNeighborsClassifier(n_neighbors=k, weights=\"uniform\", metric=\"minkowski\")\n",
        "  preds = cross_val_predict(knn_model, df_x_scaled, df_y, cv=3, method=\"predict\", n_jobs=3)\n",
        "  score = cross_val_score(knn_model, df_x_scaled, df_y, cv=3, scoring=\"accuracy\")\n",
        "  k_list.append(k)\n",
        "  preds_list.append(preds)\n",
        "  score_list.append(score.mean())"
      ],
      "metadata": {
        "id": "GAw2cbYoXEVC"
      },
      "execution_count": 20,
      "outputs": []
    },
    {
      "cell_type": "code",
      "source": [
        "df_scores = pd.DataFrame({\"K\":k_list, \n",
        "                   \"score\":score_list\n",
        "                   })"
      ],
      "metadata": {
        "id": "O__pBPqdXzMt"
      },
      "execution_count": 21,
      "outputs": []
    },
    {
      "cell_type": "code",
      "source": [
        "df_scores.set_index(\"K\")[\"score\"].plot(label=\"KNN Score\")\n",
        "plt.legend()\n",
        "plt.show();"
      ],
      "metadata": {
        "colab": {
          "base_uri": "https://localhost:8080/",
          "height": 279
        },
        "id": "0YLW8A_4XzqT",
        "outputId": "087691eb-2172-4f57-d94d-74a5f7ca43f3"
      },
      "execution_count": 22,
      "outputs": [
        {
          "output_type": "display_data",
          "data": {
            "text/plain": [
              "<Figure size 432x288 with 1 Axes>"
            ],
            "image/png": "[encoded data removed]"
          },
          "metadata": {
            "needs_background": "light"
          }
        }
      ]
    },
    {
      "cell_type": "markdown",
      "source": [
        "After K=13 begins to decrease, so 13 is the k value choosen, which means how many naeghbour will be used to predict into the model"
      ],
      "metadata": {
        "id": "9J5BuGrlYET9"
      }
    },
    {
      "cell_type": "code",
      "source": [
        "knn_model = KNeighborsClassifier(n_neighbors=13, weights=\"uniform\", metric=\"minkowski\")\n",
        "preds = cross_val_predict(knn_model, df_x_scaled, df_y, cv=3, method=\"predict\", n_jobs=3)\n",
        "score = cross_val_score(knn_model, df_x_scaled, df_y, cv=3, scoring=\"accuracy\", n_jobs=3)\n",
        "score"
      ],
      "metadata": {
        "colab": {
          "base_uri": "https://localhost:8080/"
        },
        "id": "p98igLYhYa9b",
        "outputId": "d85a5a5e-e9a5-4b81-9492-c01ff963bfa0"
      },
      "execution_count": 32,
      "outputs": [
        {
          "output_type": "execute_result",
          "data": {
            "text/plain": [
              "array([0.72754491, 0.74474474, 0.75375375])"
            ]
          },
          "metadata": {},
          "execution_count": 32
        }
      ]
    },
    {
      "cell_type": "code",
      "source": [
        "print(f\"Class report:\\n\"\n",
        "      f\"{classification_report(df_y, preds)}\")"
      ],
      "metadata": {
        "colab": {
          "base_uri": "https://localhost:8080/"
        },
        "id": "T-HZwJHJYriS",
        "outputId": "f06a87e4-dc49-47f4-bae1-987ee5c9b5b5"
      },
      "execution_count": 33,
      "outputs": [
        {
          "output_type": "stream",
          "name": "stdout",
          "text": [
            "Class report:\n",
            "              precision    recall  f1-score   support\n",
            "\n",
            "           0       0.75      0.94      0.84       700\n",
            "           1       0.66      0.29      0.40       300\n",
            "\n",
            "    accuracy                           0.74      1000\n",
            "   macro avg       0.71      0.61      0.62      1000\n",
            "weighted avg       0.73      0.74      0.70      1000\n",
            "\n"
          ]
        }
      ]
    },
    {
      "cell_type": "code",
      "source": [
        "knn_model.fit(df_x_scaled, df_y)\n",
        "plot_roc_curve(knn_model,df_x_scaled,df_y)\n",
        "plt.suptitle(\"ROC-AUC-CURVE\")\n",
        "plt.show()"
      ],
      "metadata": {
        "colab": {
          "base_uri": "https://localhost:8080/",
          "height": 363
        },
        "id": "We3AZTFNelYn",
        "outputId": "876205d5-13c8-45a4-a05f-9e72eaed1ead"
      },
      "execution_count": 25,
      "outputs": [
        {
          "output_type": "stream",
          "name": "stderr",
          "text": [
            "/usr/local/lib/python3.8/dist-packages/sklearn/utils/deprecation.py:87: FutureWarning: Function plot_roc_curve is deprecated; Function :func:`plot_roc_curve` is deprecated in 1.0 and will be removed in 1.2. Use one of the class methods: :meth:`sklearn.metric.RocCurveDisplay.from_predictions` or :meth:`sklearn.metric.RocCurveDisplay.from_estimator`.\n",
            "  warnings.warn(msg, category=FutureWarning)\n"
          ]
        },
        {
          "output_type": "display_data",
          "data": {
            "text/plain": [
              "<Figure size 432x288 with 1 Axes>"
            ],
            "image/png": "[encoded data removed]"
          },
          "metadata": {
            "needs_background": "light"
          }
        }
      ]
    },
    {
      "cell_type": "markdown",
      "source": [
        "Conclusions"
      ],
      "metadata": {
        "id": "6XsNjAGs0PF3"
      }
    },
    {
      "cell_type": "code",
      "source": [
        "disp = plot_confusion_matrix(tree_model, X_test, y_test)\n",
        "plt.show()"
      ],
      "metadata": {
        "colab": {
          "base_uri": "https://localhost:8080/",
          "height": 334
        },
        "id": "f1Y0H2od0W7s",
        "outputId": "22cf1f8c-4d24-48a7-a661-1e15dc85a9b4"
      },
      "execution_count": 26,
      "outputs": [
        {
          "output_type": "stream",
          "name": "stderr",
          "text": [
            "/usr/local/lib/python3.8/dist-packages/sklearn/utils/deprecation.py:87: FutureWarning: Function plot_confusion_matrix is deprecated; Function `plot_confusion_matrix` is deprecated in 1.0 and will be removed in 1.2. Use one of the class methods: ConfusionMatrixDisplay.from_predictions or ConfusionMatrixDisplay.from_estimator.\n",
            "  warnings.warn(msg, category=FutureWarning)\n"
          ]
        },
        {
          "output_type": "display_data",
          "data": {
            "text/plain": [
              "<Figure size 432x288 with 2 Axes>"
            ],
            "image/png": "[encoded data removed]"
          },
          "metadata": {
            "needs_background": "light"
          }
        }
      ]
    },
    {
      "cell_type": "code",
      "source": [
        "disp = plot_confusion_matrix(log_regression, X_test, y_test)\n",
        "plt.show()"
      ],
      "metadata": {
        "colab": {
          "base_uri": "https://localhost:8080/",
          "height": 334
        },
        "id": "io9XwhPV3ou0",
        "outputId": "8b1c1f9e-53d7-40dd-f2e3-184477487823"
      },
      "execution_count": 27,
      "outputs": [
        {
          "output_type": "stream",
          "name": "stderr",
          "text": [
            "/usr/local/lib/python3.8/dist-packages/sklearn/utils/deprecation.py:87: FutureWarning: Function plot_confusion_matrix is deprecated; Function `plot_confusion_matrix` is deprecated in 1.0 and will be removed in 1.2. Use one of the class methods: ConfusionMatrixDisplay.from_predictions or ConfusionMatrixDisplay.from_estimator.\n",
            "  warnings.warn(msg, category=FutureWarning)\n"
          ]
        },
        {
          "output_type": "display_data",
          "data": {
            "text/plain": [
              "<Figure size 432x288 with 2 Axes>"
            ],
            "image/png": "[encoded data removed]"
          },
          "metadata": {
            "needs_background": "light"
          }
        }
      ]
    },
    {
      "cell_type": "code",
      "source": [
        "confusion_matrix(df_y, preds)"
      ],
      "metadata": {
        "colab": {
          "base_uri": "https://localhost:8080/"
        },
        "id": "MivzTLER30zu",
        "outputId": "666b413c-767d-4650-9e37-a2a75b489755"
      },
      "execution_count": 28,
      "outputs": [
        {
          "output_type": "execute_result",
          "data": {
            "text/plain": [
              "array([[663,  37],\n",
              "       [225,  75]])"
            ]
          },
          "metadata": {},
          "execution_count": 28
        }
      ]
    },
    {
      "cell_type": "markdown",
      "source": [
        "When the model has to predict 1, which means the clients does finish his credit, the better option is logistic regression, but it we want to predict 0, which means the clients does not finish his credit, K/means and logistic regressions have a similar performance. <br><br>\n",
        "\n",
        "The importance of what is most important to predict will depend of the business. For example, depending on how much risk we are able to accept the recall, in other words, the capacity of the model to predict 1 will be the most important. <br><br>\n",
        "\n",
        "And this decision should be taken in order of how much loose generate a not paid credit loan and how much revenue generate a paid credit loan. Thus, it could be calculated an expected benefit, which will tell us how much revenue we will reject to not giving a credit to well payers and how much looses we will accept to giving a credit to bad payers. <br><br>\n",
        "\n",
        "For example, for the case of tree model <br>\n",
        "our True positive is 178 <br>\n",
        "our True negative is 44 <br>\n",
        "our False positive is 32 <br>\n",
        "our False negative is 46 <br><br>\n",
        "\n",
        "Therefore considering this model with a standard loose and standar revenue for each credit loan. The expected benefit considering cost of oportunity is the following: <br><br>\n",
        "\n",
        "178 were well rejected so it does not generate any revenue or loss <br>\n",
        "32 were bad rejected so it generates a loss for cost of oportunity <br>\n",
        "46 were bad accepted so it generates a loss because we gave the credit loan but are bad payers <br>\n",
        "44 were well accepted so it does generates a revenue. <br><br>\n",
        "\n",
        "Then it should be compared with our base case which would be accept to everyone. <br><br>\n",
        "\n",
        "EB0 = 90 x revenue - 210 x loss <br><br>\n",
        "\n",
        "EB1 = 44 x revenue  - 46 x loss - 32 x cost of oportunity <br><br>\n",
        "\n",
        "EB2 = 45 x revenue  - 45 x loss - 21 x cost of oportunity <br><br>\n",
        "\n",
        "EB3 = 23 x revenue  - 68 x loss - 11 x cost of oportunity <br><br>\n",
        "\n",
        "Therefore, for high difference between revenue and loss, let's say 1 revenue = 100 loss, then it looks like this <br><br>\n",
        "\n",
        "EB0 = 88 revenue<br><br>\n",
        "\n",
        "EB1 = 43.3 revenue<br><br>\n",
        "\n",
        "EB2 = 44.4 revenue<br><br>\n",
        "\n",
        "EB3 = 22.8 revenue<br><br>\n",
        "\n",
        "Aditionally, for revenue equal to loss it looks like this when we consider cost of oportunity <br><br>\n",
        "\n",
        "EB0 = -120 revenue<br><br>\n",
        "\n",
        "EB1 = -34 revenue<br><br>\n",
        "\n",
        "EB2 = -21 revenue<br><br>\n",
        "\n",
        "EB3 = -59 revenue<br><br>\n",
        "\n",
        "Finally,  for revenue equal to loss it looks like this when we do not consider cost of oportunity <br><br>\n",
        "\n",
        "EB0 = -120 revenue<br><br>\n",
        "\n",
        "EB1 = -2 revenue<br><br>\n",
        "\n",
        "EB2 = 0 revenue<br><br>\n",
        "\n",
        "EB3 = -45 revenue<br><br>\n",
        "\n",
        "In conclusion, When loss are small it is better to give credit to everyone, and when loss are high, it will be beter to use the model of logistic regression.<br><br>\n",
        "\n",
        "Further work\n",
        "It is possible keep testing other models for classifier such as:\n",
        "\n",
        "\n",
        "\n"
      ],
      "metadata": {
        "id": "nSBLp5LY-Zia"
      }
    }
  ]
}